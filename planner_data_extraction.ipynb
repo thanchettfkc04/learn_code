{
 "cells": [
  {
   "cell_type": "code",
   "execution_count": 2,
   "id": "574c700d",
   "metadata": {},
   "outputs": [],
   "source": [
    "# Tao csv file gom : ma san pham, name, gia, so luong ban, rating, image 1, image 2, image3"
   ]
  },
  {
   "cell_type": "code",
   "execution_count": 100,
   "id": "0ee1c642",
   "metadata": {},
   "outputs": [],
   "source": [
    "import requests\n",
    "import json\n",
    "import pandas as pd\n",
    "from datetime import datetime"
   ]
  },
  {
   "cell_type": "code",
   "execution_count": 101,
   "id": "c4c5abda",
   "metadata": {},
   "outputs": [],
   "source": [
    "path = r'D:\\0. Start of a DEV\\test_data_planner.json'\n",
    "tasks_details = []\n",
    "buckets_details = []"
   ]
  },
  {
   "cell_type": "code",
   "execution_count": 102,
   "id": "18e8aaa3",
   "metadata": {},
   "outputs": [],
   "source": [
    "def read_json_file(path):\n",
    "    with open(path, 'r', encoding = 'utf-8') as f:        \n",
    "        return f.read()"
   ]
  },
  {
   "cell_type": "code",
   "execution_count": 103,
   "id": "3033781e",
   "metadata": {},
   "outputs": [],
   "source": [
    "def convert_to_datetime(timestamp):\n",
    "    if not timestamp:\n",
    "        return None\n",
    "    timestamp = sample.replace('T', ' ')\n",
    "    timestamp = sample.replace('Z', '')\n",
    "    return timestamp"
   ]
  },
  {
   "cell_type": "code",
   "execution_count": 104,
   "id": "f76581aa",
   "metadata": {},
   "outputs": [
    {
     "data": {
      "text/plain": [
       "['Green_fields', 'Renesas']"
      ]
     },
     "execution_count": 104,
     "metadata": {},
     "output_type": "execute_result"
    }
   ],
   "source": [
    "data_file = read_json_file(path)\n",
    "data_dict = json.loads(data_file)\n",
    "list(data_dict.keys())"
   ]
  },
  {
   "cell_type": "code",
   "execution_count": 105,
   "id": "854018b9",
   "metadata": {},
   "outputs": [],
   "source": [
    "for project_name in data_dict.keys():\n",
    "    tasks_dict = data_dict[project_name]['tasks']\n",
    "    buckets_dict = data_dict[project_name]['buckets']\n",
    "    \n",
    "    for task in tasks_dict:\n",
    "        task_id = task['id']\n",
    "        plan_id = task['planId']\n",
    "        task_name = task['title']\n",
    "        user_ids = list(task['assignments'].keys())\n",
    "        labels = list(task['appliedCategories'].keys())\n",
    "        start_date = task.get('createdDateTime')\n",
    "        due_date = task.get('dueDateTime')\n",
    "        bucket_id = task['bucketId']\n",
    "        tasks_details.append({'project_name': project_name,\n",
    "                             'project_id': plan_id,\n",
    "                             'card_name': task_name,\n",
    "                             'label': labels,\n",
    "                             'user_id': user_ids,\n",
    "                             'created_date': start_date,\n",
    "                             'due_date': due_date,\n",
    "                             'bucket_id': bucket_id})\n",
    "    \n",
    "    for bucket in buckets_dict:\n",
    "        bucket_name = bucket['name']\n",
    "        bucket_id = bucket['id']\n",
    "        buckets_details.append({'bucket_name': bucket_name,\n",
    "                               'bucket_id': bucket_id})\n",
    "        "
   ]
  },
  {
   "cell_type": "code",
   "execution_count": 106,
   "id": "58c10303",
   "metadata": {},
   "outputs": [
    {
     "data": {
      "text/plain": [
       "bucket_name    object\n",
       "bucket_id      object\n",
       "dtype: object"
      ]
     },
     "execution_count": 106,
     "metadata": {},
     "output_type": "execute_result"
    }
   ],
   "source": [
    "task_df = pd.DataFrame(tasks_details)\n",
    "bucket_df = pd.DataFrame(buckets_details)\n",
    "bucket_df.dtypes"
   ]
  },
  {
   "cell_type": "code",
   "execution_count": 107,
   "id": "89db03f4",
   "metadata": {},
   "outputs": [],
   "source": [
    "planner_data = pd.merge(task_df, bucket_df, on = ['bucket_id'])\n",
    "planner_data.drop(columns = 'bucket_id', axis = 1, inplace = True)"
   ]
  },
  {
   "cell_type": "code",
   "execution_count": 119,
   "id": "30a6181b",
   "metadata": {},
   "outputs": [],
   "source": [
    "planner_data_ex = planner_data.explode('label')\n",
    "planner_data_ex = planner_data_ex.explode('user_id')"
   ]
  },
  {
   "cell_type": "code",
   "execution_count": 120,
   "id": "a7da78a8",
   "metadata": {},
   "outputs": [],
   "source": [
    "planner_data_ex['created_date'] = planner_data_ex['created_date'].map(convert_to_datetime)\n",
    "planner_data_ex['due_date'] = planner_data_ex['due_date'].map(convert_to_datetime)\n",
    "#planner_data_ex['due_date'] = planner_data_ex.apply(lambda x: convert_to_datetime(x['due_date']), axis = 1)"
   ]
  },
  {
   "cell_type": "code",
   "execution_count": 131,
   "id": "dd46b744",
   "metadata": {},
   "outputs": [],
   "source": [
    "planner_data_ex['insert_time'] = datetime.now()"
   ]
  },
  {
   "cell_type": "code",
   "execution_count": 132,
   "id": "f40cd163",
   "metadata": {},
   "outputs": [],
   "source": [
    "planner_data_ex.to_csv('planner_data_ex.csv', index = False, encoding = 'utf-8-sig')"
   ]
  }
 ],
 "metadata": {
  "kernelspec": {
   "display_name": "Python 3 (ipykernel)",
   "language": "python",
   "name": "python3"
  },
  "language_info": {
   "codemirror_mode": {
    "name": "ipython",
    "version": 3
   },
   "file_extension": ".py",
   "mimetype": "text/x-python",
   "name": "python",
   "nbconvert_exporter": "python",
   "pygments_lexer": "ipython3",
   "version": "3.9.7"
  }
 },
 "nbformat": 4,
 "nbformat_minor": 5
}
