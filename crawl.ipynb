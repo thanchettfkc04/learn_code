{
 "cells": [
  {
   "cell_type": "code",
   "execution_count": 33,
   "id": "0ee1c642",
   "metadata": {},
   "outputs": [],
   "source": [
    "import requests\n",
    "import json"
   ]
  },
  {
   "cell_type": "code",
   "execution_count": 34,
   "id": "f97ca1fe",
   "metadata": {},
   "outputs": [],
   "source": [
    "api_url = 'https://tiki.vn/api/personalish/v1/blocks/listings?limit=1000&include=advertisement&aggregations=1&trackity_id=f1032210-fda6-e21e-0f3c-744a2858ea94&categoryId=27608&category=27608'"
   ]
  },
  {
   "cell_type": "code",
   "execution_count": 35,
   "id": "8f02e52f",
   "metadata": {},
   "outputs": [],
   "source": [
    "tiki_url = 'https://tiki.vn/balo/c27608?__s=ssdp'"
   ]
  },
  {
   "cell_type": "code",
   "execution_count": 36,
   "id": "715b25df",
   "metadata": {},
   "outputs": [],
   "source": [
    "headers = {'user-agent': 'Mozilla/5.0 (Windows NT 10.0; Win64; x64) AppleWebKit/537.36 (KHTML, like Gecko) Chrome/95.0.4638.54 Safari/537.36'}"
   ]
  },
  {
   "cell_type": "code",
   "execution_count": 37,
   "id": "ac1ebc34",
   "metadata": {},
   "outputs": [],
   "source": [
    "response = requests.get(api_url, headers = headers)"
   ]
  },
  {
   "cell_type": "code",
   "execution_count": 38,
   "id": "5431bb57",
   "metadata": {},
   "outputs": [
    {
     "data": {
      "text/plain": [
       "str"
      ]
     },
     "execution_count": 38,
     "metadata": {},
     "output_type": "execute_result"
    }
   ],
   "source": [
    "tiki_data=response.text\n",
    "type(tiki_data)"
   ]
  },
  {
   "cell_type": "code",
   "execution_count": 39,
   "id": "d0df84fe",
   "metadata": {},
   "outputs": [
    {
     "data": {
      "text/plain": [
       "{'code': 3,\n",
       " 'message': 'invalid ListingsServiceGetRequest.Limit: value must be inside range [1, 300]',\n",
       " 'details': [{'@type': 'type.googleapis.com/google.rpc.BadRequest',\n",
       "   'field_violations': [{'field': 'Limit',\n",
       "     'description': 'value must be inside range [1, 300]'}]}]}"
      ]
     },
     "execution_count": 39,
     "metadata": {},
     "output_type": "execute_result"
    }
   ],
   "source": [
    "tiki_dict=json.loads(tiki_data)\n",
    "type(tiki_dict)\n",
    "tiki_dict"
   ]
  },
  {
   "cell_type": "code",
   "execution_count": 40,
   "id": "5df7d7a3",
   "metadata": {
    "scrolled": true
   },
   "outputs": [
    {
     "ename": "KeyError",
     "evalue": "'data'",
     "output_type": "error",
     "traceback": [
      "\u001b[1;31m---------------------------------------------------------------------------\u001b[0m",
      "\u001b[1;31mKeyError\u001b[0m                                  Traceback (most recent call last)",
      "\u001b[1;32m~\\AppData\\Local\\Temp/ipykernel_22900/3500156264.py\u001b[0m in \u001b[0;36m<module>\u001b[1;34m\u001b[0m\n\u001b[1;32m----> 1\u001b[1;33m \u001b[0mtiki_datas\u001b[0m \u001b[1;33m=\u001b[0m \u001b[0mtiki_dict\u001b[0m\u001b[1;33m[\u001b[0m\u001b[1;34m'data'\u001b[0m\u001b[1;33m]\u001b[0m\u001b[1;33m\u001b[0m\u001b[1;33m\u001b[0m\u001b[0m\n\u001b[0m\u001b[0;32m      2\u001b[0m \u001b[0mproduct_list\u001b[0m \u001b[1;33m=\u001b[0m \u001b[1;33m[\u001b[0m\u001b[1;33m]\u001b[0m\u001b[1;33m\u001b[0m\u001b[1;33m\u001b[0m\u001b[0m\n\u001b[0;32m      3\u001b[0m \u001b[1;33m\u001b[0m\u001b[0m\n\u001b[0;32m      4\u001b[0m \u001b[1;32mfor\u001b[0m \u001b[0mproduct_detail\u001b[0m \u001b[1;32min\u001b[0m \u001b[0mtiki_datas\u001b[0m\u001b[1;33m:\u001b[0m\u001b[1;33m\u001b[0m\u001b[1;33m\u001b[0m\u001b[0m\n\u001b[0;32m      5\u001b[0m     \u001b[0mname\u001b[0m \u001b[1;33m=\u001b[0m \u001b[0mproduct_detail\u001b[0m\u001b[1;33m[\u001b[0m\u001b[1;34m'name'\u001b[0m\u001b[1;33m]\u001b[0m\u001b[1;33m\u001b[0m\u001b[1;33m\u001b[0m\u001b[0m\n",
      "\u001b[1;31mKeyError\u001b[0m: 'data'"
     ]
    }
   ],
   "source": [
    "tiki_datas = tiki_dict['data']\n",
    "product_list = []\n",
    "\n",
    "for product_detail in tiki_datas:\n",
    "    name = product_detail['name']\n",
    "    price = product_detail['original_price']\n",
    "    quantity_sold = product_detail.get('quantity_sold')\n",
    "    if quantity_sold:\n",
    "        sold = quantity_sold['value']\n",
    "    else:\n",
    "        sold = 'n/a'\n",
    "    product_dict = f'{name}|{price}|{sold}\\n'\n",
    "#     product_dict = '{}|{}|{}'.format(name, price, sold)\n",
    "    product_list.append(product_dict)"
   ]
  },
  {
   "cell_type": "code",
   "execution_count": null,
   "id": "f40cd163",
   "metadata": {},
   "outputs": [],
   "source": [
    "product_file = open('product_detail.txt', 'w', encoding = 'utf-8')\n",
    "product_file.writelines(product_list)\n",
    "product_file.close()"
   ]
  },
  {
   "cell_type": "code",
   "execution_count": null,
   "id": "3a427310",
   "metadata": {},
   "outputs": [],
   "source": []
  }
 ],
 "metadata": {
  "kernelspec": {
   "display_name": "Python 3 (ipykernel)",
   "language": "python",
   "name": "python3"
  },
  "language_info": {
   "codemirror_mode": {
    "name": "ipython",
    "version": 3
   },
   "file_extension": ".py",
   "mimetype": "text/x-python",
   "name": "python",
   "nbconvert_exporter": "python",
   "pygments_lexer": "ipython3",
   "version": "3.9.7"
  }
 },
 "nbformat": 4,
 "nbformat_minor": 5
}
